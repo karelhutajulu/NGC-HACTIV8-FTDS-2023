{
  "nbformat": 4,
  "nbformat_minor": 0,
  "metadata": {
    "colab": {
      "provenance": []
    },
    "kernelspec": {
      "name": "python3",
      "display_name": "Python 3"
    },
    "language_info": {
      "name": "python"
    }
  },
  "cells": [
    {
      "cell_type": "markdown",
      "source": [
        "Soal no.1 , create vector"
      ],
      "metadata": {
        "id": "9woYsFzKNbDs"
      }
    },
    {
      "cell_type": "code",
      "execution_count": null,
      "metadata": {
        "colab": {
          "base_uri": "https://localhost:8080/"
        },
        "id": "n_JggsBoNJDL",
        "outputId": "d86302bb-fa80-400d-9ae6-4931e98c6e72"
      },
      "outputs": [
        {
          "output_type": "stream",
          "name": "stdout",
          "text": [
            "[[17]\n",
            " [22]\n",
            " [19]]\n"
          ]
        }
      ],
      "source": [
        "import numpy as np\n",
        "v = np.array([[17],[22],[19]])\n",
        "print(v)"
      ]
    },
    {
      "cell_type": "markdown",
      "source": [
        "Soal no.2, addition, substraction, dot product, multiplication, norm and sudut"
      ],
      "metadata": {
        "id": "XNiQsMRhOZrd"
      }
    },
    {
      "cell_type": "code",
      "source": [
        "a = np.array([17,22,19])\n",
        "b = np.array([10,20,11])\n",
        "c = np.array([5,12,9])\n",
        "\n",
        "print(b.shape)\n",
        "\n",
        "addition = a + b\n",
        "print(addition)\n",
        "\n",
        "substraction = b - c\n",
        "print(substraction)\n",
        "\n",
        "dotproduct = a.dot(c)\n",
        "print(dotproduct)\n",
        "\n",
        "multiplication = a * b\n",
        "print(multiplication)\n",
        "\n",
        "a_norm= np.linalg.norm(a) \n",
        "print(a_norm)\n",
        "\n",
        "sudut = a.dot(b)\n",
        "print(sudut)"
      ],
      "metadata": {
        "colab": {
          "base_uri": "https://localhost:8080/"
        },
        "id": "4WylnXtaPBgM",
        "outputId": "39a12945-c975-47d6-f7f8-cf3ccfbcf4fe"
      },
      "execution_count": null,
      "outputs": [
        {
          "output_type": "stream",
          "name": "stdout",
          "text": [
            "(3,)\n",
            "[27 42 30]\n",
            "[5 8 2]\n",
            "520\n",
            "[170 440 209]\n",
            "33.67491648096547\n",
            "819\n"
          ]
        }
      ]
    },
    {
      "cell_type": "markdown",
      "source": [
        "Soal no 3, plotting vectors"
      ],
      "metadata": {
        "id": "cpN5yXbL8zSq"
      }
    },
    {
      "cell_type": "code",
      "source": [
        "import matplotlib.pyplot as plt\n",
        "\n",
        "u = np.array([2,5])\n",
        "v = np.array([3,1])\n",
        "\n",
        "\n",
        "origin = [0,0]\n",
        "fig , ax = plt.subplots()\n",
        "\n",
        "ax.set_xlim(0 , 5)\n",
        "ax.set_ylim(0 , 5)\n",
        "\n",
        "ax.set_xlim()\n",
        "ax.quiver(origin[0], origin[1],u[0] , u[1], angles ='xy',scale_units='xy',scale=1 )\n",
        "ax.quiver(origin[0], origin[1],v[0] , v[1], angles ='xy',scale_units='xy',scale=1 )\n",
        "plt.show\n"
      ],
      "metadata": {
        "colab": {
          "base_uri": "https://localhost:8080/",
          "height": 287
        },
        "id": "wxX4adbhzZva",
        "outputId": "9f7788ac-aa8c-4469-fd81-c70d215a9757"
      },
      "execution_count": null,
      "outputs": [
        {
          "output_type": "execute_result",
          "data": {
            "text/plain": [
              "<function matplotlib.pyplot.show(*args, **kw)>"
            ]
          },
          "metadata": {},
          "execution_count": 27
        },
        {
          "output_type": "display_data",
          "data": {
            "text/plain": [
              "<Figure size 432x288 with 1 Axes>"
            ],
            "image/png": "[encoded data removed]"
          },
          "metadata": {
            "needs_background": "light"
          }
        }
      ]
    }
  ]
}