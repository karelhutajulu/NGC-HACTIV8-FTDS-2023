{
  "nbformat": 4,
  "nbformat_minor": 0,
  "metadata": {
    "colab": {
      "provenance": []
    },
    "kernelspec": {
      "name": "python3",
      "display_name": "Python 3"
    },
    "language_info": {
      "name": "python"
    }
  },
  "cells": [
    {
      "cell_type": "code",
      "source": [
        "import sympy as sy"
      ],
      "metadata": {
        "id": "0vR_hAQcGh7o"
      },
      "execution_count": 5,
      "outputs": []
    },
    {
      "cell_type": "code",
      "execution_count": 4,
      "metadata": {
        "colab": {
          "base_uri": "https://localhost:8080/"
        },
        "id": "kijxQtnuEqgw",
        "outputId": "54df8e67-e395-4129-f51d-1f63bf7f262e"
      },
      "outputs": [
        {
          "output_type": "stream",
          "name": "stdout",
          "text": [
            "Gradient:  Matrix([[3], [4]])\n"
          ]
        }
      ],
      "source": [
        "import sympy as sym\n",
        "\n",
        "x, y = sym.symbols('x y')\n",
        "expr = 3*x + 4*y - 5\n",
        "\n",
        "gradient = sym.Matrix([sym.diff(expr, x), sym.diff(expr, y)])\n",
        "print(\"Gradient: \", gradient)"
      ]
    }
  ]
}