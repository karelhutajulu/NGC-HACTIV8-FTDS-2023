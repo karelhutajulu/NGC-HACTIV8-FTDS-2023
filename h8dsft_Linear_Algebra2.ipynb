{
  "nbformat": 4,
  "nbformat_minor": 0,
  "metadata": {
    "colab": {
      "provenance": []
    },
    "kernelspec": {
      "name": "python3",
      "display_name": "Python 3"
    },
    "language_info": {
      "name": "python"
    }
  },
  "cells": [
    {
      "cell_type": "code",
      "source": [
        "import numpy as np"
      ],
      "metadata": {
        "id": "x9fQc5Ot2T76"
      },
      "execution_count": 2,
      "outputs": []
    },
    {
      "cell_type": "markdown",
      "source": [
        "1. Creating tensor"
      ],
      "metadata": {
        "id": "jqnTrR-47mXQ"
      }
    },
    {
      "cell_type": "code",
      "execution_count": 9,
      "metadata": {
        "colab": {
          "base_uri": "https://localhost:8080/"
        },
        "id": "ez0ByZJG13OH",
        "outputId": "6124b6b7-6b6a-4d41-8af5-8db4c5e2204e"
      },
      "outputs": [
        {
          "output_type": "stream",
          "name": "stdout",
          "text": [
            "(4, 2, 2)\n",
            "[[[23 50]\n",
            "  [ 7 12]]\n",
            "\n",
            " [[57 67]\n",
            "  [99 43]]\n",
            "\n",
            " [[75 21]\n",
            "  [57 12]]\n",
            "\n",
            " [[87 26]\n",
            "  [18 84]]]\n"
          ]
        }
      ],
      "source": [
        "T = np.array([ [[23,50],[7,12]], [[57,67],[99,43]], [[75,21],[57,12]], [[87,26],[18,84]] ])\n",
        "print(T.shape)\n",
        "print(T)"
      ]
    },
    {
      "cell_type": "markdown",
      "source": [
        "2. Matrix multiplication"
      ],
      "metadata": {
        "id": "VyDEO0_P7jB7"
      }
    },
    {
      "cell_type": "code",
      "source": [
        "a = np.array ([[27,50,19],[7,12,109],[57,67,98]])\n",
        "print(a.shape)\n",
        "print(a)\n",
        "\n",
        "b = np.array ([[17],[22],[19]])\n",
        "print(b.shape)\n",
        "\n",
        "multiplication = a * b\n",
        "print(multiplication)\n"
      ],
      "metadata": {
        "colab": {
          "base_uri": "https://localhost:8080/"
        },
        "id": "OmW2Nu-Q4YLC",
        "outputId": "8bdd990d-effd-45e9-b171-942b1d32ac06"
      },
      "execution_count": 18,
      "outputs": [
        {
          "output_type": "stream",
          "name": "stdout",
          "text": [
            "(3, 3)\n",
            "[[ 27  50  19]\n",
            " [  7  12 109]\n",
            " [ 57  67  98]]\n",
            "(3, 1)\n",
            "[[ 459  850  323]\n",
            " [ 154  264 2398]\n",
            " [1083 1273 1862]]\n"
          ]
        }
      ]
    },
    {
      "cell_type": "markdown",
      "source": [
        "3. Transpose, determinant and inverse"
      ],
      "metadata": {
        "id": "atWytUEN7eEm"
      }
    },
    {
      "cell_type": "code",
      "source": [
        "a_transpose = print(a.T)\n",
        "det = np.linalg.det(a)\n",
        "print(det)"
      ],
      "metadata": {
        "colab": {
          "base_uri": "https://localhost:8080/"
        },
        "id": "6lnmjTBq6It-",
        "outputId": "dd34caa5-096b-417e-a85d-5f61b9b7f21f"
      },
      "execution_count": 20,
      "outputs": [
        {
          "output_type": "stream",
          "name": "stdout",
          "text": [
            "[[ 27   7  57]\n",
            " [ 50  12  67]\n",
            " [ 19 109  98]]\n",
            "106836.00000000017\n"
          ]
        }
      ]
    },
    {
      "cell_type": "code",
      "source": [
        "print(np.linalg.inv(a))"
      ],
      "metadata": {
        "colab": {
          "base_uri": "https://localhost:8080/"
        },
        "id": "cWKLQOMn6_xc",
        "outputId": "4765517f-8d7f-47bb-b2ab-b1abcf15f0a8"
      },
      "execution_count": 23,
      "outputs": [
        {
          "output_type": "stream",
          "name": "stdout",
          "text": [
            "[[-0.05734958 -0.03394923  0.04887866]\n",
            " [ 0.0517335   0.0146299  -0.026302  ]\n",
            " [-0.00201243  0.00974391 -0.00024336]]\n"
          ]
        }
      ]
    }
  ]
}